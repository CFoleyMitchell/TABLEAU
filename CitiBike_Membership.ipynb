{
 "cells": [
  {
   "cell_type": "code",
   "execution_count": 1,
   "metadata": {},
   "outputs": [],
   "source": [
    "# Dependencies and Setup\n",
    "import pandas as pd\n",
    "import numpy as np\n",
    "\n",
    "# Files to Load\n",
    "Q42013 = \"Resources/Import/Membership/2013Q4.csv\"\n",
    "Q12014 = \"Resources/Import/Membership/2014Q1.csv\"\n",
    "Q22014 = \"Resources/Import/Membership/2014Q2.csv\"\n",
    "Q32014 = \"Resources/Import/Membership/2014Q3.csv\"\n",
    "Q42014 = \"Resources/Import/Membership/2014Q4.csv\"\n",
    "Q12015 = \"Resources/Import/Membership/2015Q1.csv\"\n",
    "Q22015 = \"Resources/Import/Membership/2015Q2.csv\"\n",
    "Q32015 = \"Resources/Import/Membership/2015Q3.csv\"\n",
    "Q42015 = \"Resources/Import/Membership/2015Q4.csv\"\n",
    "Q12016 = \"Resources/Import/Membership/2016Q1.csv\"\n",
    "Q22016 = \"Resources/Import/Membership/2016Q2.csv\"\n",
    "Q32016 = \"Resources/Import/Membership/2016Q3.csv\"\n",
    "Q42016 = \"Resources/Import/Membership/2016Q4.csv\"\n",
    "Q12017 = \"Resources/Import/Membership/2017Q1.csv\"\n",
    "Q22017 = \"Resources/Import/Membership/2017Q2.csv\"\n",
    "Q32017 = \"Resources/Import/Membership/2017Q3.csv\"\n",
    "Q42017 = \"Resources/Import/Membership/2017Q4.csv\"\n",
    "Q12018 = \"Resources/Import/Membership/2018Q1.csv\"\n",
    "Q22018 = \"Resources/Import/Membership/2018Q2.csv\"\n",
    "Q32018 = \"Resources/Import/Membership/2018Q3.csv\"\n",
    "Q42018 = \"Resources/Import/Membership/2018Q4.csv\"\n",
    "\n",
    "\n",
    "# Read file and store into Pandas data frame\n",
    "df_q42013 = pd.read_csv(Q42013)\n",
    "df_q12014 = pd.read_csv(Q12014)\n",
    "df_q22014 = pd.read_csv(Q22014)\n",
    "df_q32014 = pd.read_csv(Q32014)\n",
    "df_q42014 = pd.read_csv(Q42014)\n",
    "df_q12015 = pd.read_csv(Q12015)\n",
    "df_q22015 = pd.read_csv(Q22015)\n",
    "df_q32015 = pd.read_csv(Q32015)\n",
    "df_q42015 = pd.read_csv(Q42015)\n",
    "df_q12016 = pd.read_csv(Q12016)\n",
    "df_q22016 = pd.read_csv(Q22016)\n",
    "df_q32016 = pd.read_csv(Q32016)\n",
    "df_q42016 = pd.read_csv(Q42016)\n",
    "df_q12017 = pd.read_csv(Q12017)\n",
    "df_q22017 = pd.read_csv(Q22017)\n",
    "df_q32017 = pd.read_csv(Q32017)\n",
    "df_q42017 = pd.read_csv(Q42017)\n",
    "df_q12018 = pd.read_csv(Q12018)\n",
    "df_q22018 = pd.read_csv(Q22018)\n",
    "df_q32018 = pd.read_csv(Q32018)\n",
    "df_q42018 = pd.read_csv(Q42018)"
   ]
  },
  {
   "cell_type": "code",
   "execution_count": 2,
   "metadata": {},
   "outputs": [
    {
     "data": {
      "text/plain": [
       "Date                                                  90\n",
       "Trips over the past 24-hours (midnight to 11:59pm)    90\n",
       "Miles traveled today (midnight to 11:59 pm)           90\n",
       "Total Annual Members (All Time)                       90\n",
       "24-Hour Passes Purchased (midnight to 11:59 pm)       90\n",
       "MultiDay Pass Purchased                               90\n",
       "dtype: int64"
      ]
     },
     "execution_count": 2,
     "metadata": {},
     "output_type": "execute_result"
    }
   ],
   "source": [
    "df_q12014 = df_q12014.rename(columns={\"7-Day Passes Purchased (midnight to 11:59 pm)\":\"MultiDay Pass Purchased\",\n",
    "                                      \"Total Annual Members\":\"Total Annual Members (All Time)\"})\n",
    "\n",
    "df_q12014 = df_q12014.drop(columns=['Annual Member Sign-Ups (midnight to 11:59 pm)',\n",
    "                                 'Cumulative trips (since launch):','Miles traveled to date:'])\n",
    "\n",
    "df_q12014.count()"
   ]
  },
  {
   "cell_type": "code",
   "execution_count": 3,
   "metadata": {},
   "outputs": [
    {
     "data": {
      "text/plain": [
       "Date                                                  91\n",
       "Trips over the past 24-hours (midnight to 11:59pm)    91\n",
       "Miles traveled today (midnight to 11:59 pm)           91\n",
       "Total Annual Members (All Time)                       91\n",
       "24-Hour Passes Purchased (midnight to 11:59 pm)       91\n",
       "MultiDay Pass Purchased                               91\n",
       "dtype: int64"
      ]
     },
     "execution_count": 3,
     "metadata": {},
     "output_type": "execute_result"
    }
   ],
   "source": [
    "df_q22014 = df_q22014.rename(columns={\"7-Day Passes Purchased (midnight to 11:59 pm)\":\"MultiDay Pass Purchased\",\n",
    "                                      \"Total Annual Memberships Sold\":\"Total Annual Members (All Time)\"})\n",
    "\n",
    "df_q22014 = df_q22014.drop(columns=['Annual Member Sign-Ups (midnight to 11:59 pm)',\n",
    "                                 'Cumulative trips (since launch):','Miles traveled to date:'])\n",
    "df_q22014.count()"
   ]
  },
  {
   "cell_type": "code",
   "execution_count": 4,
   "metadata": {},
   "outputs": [
    {
     "data": {
      "text/plain": [
       "Date                                                  92\n",
       "Trips over the past 24-hours (midnight to 11:59pm)    92\n",
       "Miles traveled today (midnight to 11:59 pm)           92\n",
       "Total Annual Members (All Time)                       92\n",
       "24-Hour Passes Purchased (midnight to 11:59 pm)       92\n",
       "MultiDay Pass Purchased                               92\n",
       "dtype: int64"
      ]
     },
     "execution_count": 4,
     "metadata": {},
     "output_type": "execute_result"
    }
   ],
   "source": [
    "df_q32014 = df_q32014.rename(columns={\"7-Day Passes Purchased (midnight to 11:59 pm)\":\"MultiDay Pass Purchased\",\n",
    "                                      \"Total Annual Memberships Sold\":\"Total Annual Members (All Time)\"})\n",
    "\n",
    "df_q32014 = df_q32014.drop(columns=['Annual Member Sign-Ups (midnight to 11:59 pm)',\n",
    "                                 'Cumulative trips (since launch):','Miles traveled to date:'])\n",
    "\n",
    "df_q32014.count()"
   ]
  },
  {
   "cell_type": "code",
   "execution_count": 5,
   "metadata": {},
   "outputs": [
    {
     "data": {
      "text/plain": [
       "Date                                                  92\n",
       "Trips over the past 24-hours (midnight to 11:59pm)    92\n",
       "Miles traveled today (midnight to 11:59 pm)           92\n",
       "Total Annual Members (All Time)                       92\n",
       "24-Hour Passes Purchased (midnight to 11:59 pm)       92\n",
       "MultiDay Pass Purchased                               92\n",
       "dtype: int64"
      ]
     },
     "execution_count": 5,
     "metadata": {},
     "output_type": "execute_result"
    }
   ],
   "source": [
    "df_q42014 = df_q42014.rename(columns={\"7-Day Passes Purchased (midnight to 11:59 pm)\":\"MultiDay Pass Purchased\",\n",
    "                                      \"Total Annual Memberships Sold\":\"Total Annual Members (All Time)\"})\n",
    "\n",
    "df_q42014 = df_q42014.drop(columns=['Annual Member Sign-Ups (midnight to 11:59 pm)',\n",
    "                                 'Cumulative trips (since launch):','Miles traveled to date:'])\n",
    "\n",
    "df_q42014.count()"
   ]
  },
  {
   "cell_type": "code",
   "execution_count": 6,
   "metadata": {},
   "outputs": [
    {
     "data": {
      "text/plain": [
       "Date                                                  90\n",
       "Trips over the past 24-hours (midnight to 11:59pm)    90\n",
       "Miles traveled today (midnight to 11:59 pm)           90\n",
       "Total Annual Members (All Time)                       90\n",
       "24-Hour Passes Purchased (midnight to 11:59 pm)       90\n",
       "MultiDay Pass Purchased                               90\n",
       "dtype: int64"
      ]
     },
     "execution_count": 6,
     "metadata": {},
     "output_type": "execute_result"
    }
   ],
   "source": [
    "df_q12015 = df_q12015.rename(columns={\"7-Day Passes Purchased (midnight to 11:59 pm)\":\"MultiDay Pass Purchased\"})\n",
    "\n",
    "df_q12015 = df_q12015.drop(columns=['Cumulative trips (since launch):','Miles traveled to date:'])\n",
    "\n",
    "df_q12015.count()"
   ]
  },
  {
   "cell_type": "code",
   "execution_count": 7,
   "metadata": {},
   "outputs": [
    {
     "data": {
      "text/plain": [
       "Date                                                  91\n",
       "Trips over the past 24-hours (midnight to 11:59pm)    91\n",
       "Miles traveled today (midnight to 11:59 pm)           91\n",
       "Total Annual Members (All Time)                       91\n",
       "24-Hour Passes Purchased (midnight to 11:59 pm)       91\n",
       "MultiDay Pass Purchased                               91\n",
       "dtype: int64"
      ]
     },
     "execution_count": 7,
     "metadata": {},
     "output_type": "execute_result"
    }
   ],
   "source": [
    "df_q22015 = df_q22015.rename(columns={\"7-Day Passes Purchased (midnight to 11:59 pm)\":\"MultiDay Pass Purchased\",\n",
    "                                      \"Total Annual Memberships Sold\":\"Total Annual Members (All Time)\"})                        \n",
    "                        \n",
    "df_q22015 = df_q22015.drop(columns=['Cumulative trips (since launch)','Miles traveled to date'])\n",
    "\n",
    "df_q22015.count()"
   ]
  },
  {
   "cell_type": "code",
   "execution_count": 8,
   "metadata": {},
   "outputs": [
    {
     "data": {
      "text/plain": [
       "Date                                                  92\n",
       "Trips over the past 24-hours (midnight to 11:59pm)    92\n",
       "Miles traveled today (midnight to 11:59 pm)           92\n",
       "Total Annual Members (All Time)                       92\n",
       "24-Hour Passes Purchased (midnight to 11:59 pm)       92\n",
       "MultiDay Pass Purchased                               92\n",
       "dtype: int64"
      ]
     },
     "execution_count": 8,
     "metadata": {},
     "output_type": "execute_result"
    }
   ],
   "source": [
    "df_q32015 = df_q32015.rename(columns={\"7-Day Passes Purchased (midnight to 11:59 pm)\":\"MultiDay Pass Purchased\",\n",
    "                                      \"Total Annual Memberships Sold\":\"Total Annual Members (All Time)\"})\n",
    "\n",
    "df_q32015 = df_q32015.drop(columns=['Cumulative trips (since launch):','Miles traveled to date:'])\n",
    "\n",
    "df_q32015.count()"
   ]
  },
  {
   "cell_type": "code",
   "execution_count": 9,
   "metadata": {},
   "outputs": [
    {
     "data": {
      "text/plain": [
       "Date                                                  92\n",
       "Trips over the past 24-hours (midnight to 11:59pm)    92\n",
       "Miles traveled today (midnight to 11:59 pm)           92\n",
       "Total Annual Members (All Time)                       92\n",
       "24-Hour Passes Purchased (midnight to 11:59 pm)       92\n",
       "MultiDay Pass Purchased                               92\n",
       "dtype: int64"
      ]
     },
     "execution_count": 9,
     "metadata": {},
     "output_type": "execute_result"
    }
   ],
   "source": [
    "df_q42015 = df_q42015.rename(columns={\"7-Day Passes Purchased (midnight to 11:59 pm)\":\"MultiDay Pass Purchased\"})\n",
    "\n",
    "df_q42015 = df_q42015.drop(columns=['Cumulative trips (since launch):','Miles traveled to date:'])\n",
    "\n",
    "df_q42015.count()"
   ]
  },
  {
   "cell_type": "code",
   "execution_count": 10,
   "metadata": {},
   "outputs": [
    {
     "data": {
      "text/plain": [
       "Date                                                  91\n",
       "Trips over the past 24-hours (midnight to 11:59pm)    91\n",
       "Miles traveled today (midnight to 11:59 pm)           91\n",
       "Total Annual Members (All Time)                       91\n",
       "24-Hour Passes Purchased (midnight to 11:59 pm)       91\n",
       "MultiDay Pass Purchased                               91\n",
       "dtype: int64"
      ]
     },
     "execution_count": 10,
     "metadata": {},
     "output_type": "execute_result"
    }
   ],
   "source": [
    "df_q12016 = df_q12016.rename(columns={\"7-Day Passes Purchased (midnight to 11:59 pm)\":\"MultiDay Pass Purchased\"})\n",
    "\n",
    "df_q12016 = df_q12016.drop(columns=['Cumulative trips (since launch):','Miles traveled to date:'])\n",
    "\n",
    "df_q12016.count()"
   ]
  },
  {
   "cell_type": "code",
   "execution_count": 11,
   "metadata": {},
   "outputs": [
    {
     "data": {
      "text/plain": [
       "Date                                                  91\n",
       "Trips over the past 24-hours (midnight to 11:59pm)    91\n",
       "Miles traveled today (midnight to 11:59 pm)           91\n",
       "Total Annual Members (All Time)                       91\n",
       "24-Hour Passes Purchased (midnight to 11:59 pm)       91\n",
       "MultiDay Pass Purchased                               91\n",
       "dtype: int64"
      ]
     },
     "execution_count": 11,
     "metadata": {},
     "output_type": "execute_result"
    }
   ],
   "source": [
    "#Began Selling 3-day passes in lieu of 7-day passes beginning 5/18/2016\n",
    "df_q22016['MultiDay Pass Purchased'] = df_q22016['3-Day Passes Purchased (midnight to 11:59 pm)'] + df_q22016['7-Day Passes Purchased (midnight to 11:59 pm)']\n",
    "\n",
    "df_q22016 = df_q22016.drop(columns=['3-Day Passes Purchased (midnight to 11:59 pm)','7-Day Passes Purchased (midnight to 11:59 pm)'])\n",
    "\n",
    "df_q22016 = df_q22016.drop(columns=['Cumulative trips (since launch):','Miles traveled to date:'])\n",
    "\n",
    "df_q22016.count()"
   ]
  },
  {
   "cell_type": "code",
   "execution_count": 12,
   "metadata": {},
   "outputs": [
    {
     "data": {
      "text/plain": [
       "Date                                                  92\n",
       "Trips over the past 24-hours (midnight to 11:59pm)    92\n",
       "Miles traveled today (midnight to 11:59 pm)           92\n",
       "Total Annual Members (All Time)                       92\n",
       "24-Hour Passes Purchased (midnight to 11:59 pm)       92\n",
       "MultiDay Pass Purchased                               92\n",
       "dtype: int64"
      ]
     },
     "execution_count": 12,
     "metadata": {},
     "output_type": "execute_result"
    }
   ],
   "source": [
    "df_q32016 = df_q32016.rename(columns={\"3-Day Passes Purchased (midnight to 11:59 pm)\":\"MultiDay Pass Purchased\"})\n",
    "\n",
    "df_q32016 = df_q32016.drop(columns=['Cumulative trips (since launch):','Miles traveled to date:'])\n",
    "\n",
    "df_q32016.count()"
   ]
  },
  {
   "cell_type": "code",
   "execution_count": 13,
   "metadata": {},
   "outputs": [
    {
     "data": {
      "text/plain": [
       "Date                                                  92\n",
       "Trips over the past 24-hours (midnight to 11:59pm)    92\n",
       "Miles traveled today (midnight to 11:59 pm)           92\n",
       "Total Annual Members (All Time)                       92\n",
       "24-Hour Passes Purchased (midnight to 11:59 pm)       92\n",
       "MultiDay Pass Purchased                               92\n",
       "dtype: int64"
      ]
     },
     "execution_count": 13,
     "metadata": {},
     "output_type": "execute_result"
    }
   ],
   "source": [
    "df_q42016 = df_q42016.rename(columns={\"3-Day Passes Purchased (midnight to 11:59 pm)\":\"MultiDay Pass Purchased\"})\n",
    "\n",
    "df_q42016 = df_q42016.drop(columns=['Cumulative trips (since launch):','Miles traveled to date:'])\n",
    "\n",
    "df_q42016.count()"
   ]
  },
  {
   "cell_type": "code",
   "execution_count": 14,
   "metadata": {},
   "outputs": [
    {
     "data": {
      "text/plain": [
       "Date                                                  90\n",
       "Trips over the past 24-hours (midnight to 11:59pm)    90\n",
       "Miles traveled today (midnight to 11:59 pm)           90\n",
       "Total Annual Members (All Time)                       90\n",
       "24-Hour Passes Purchased (midnight to 11:59 pm)       90\n",
       "MultiDay Pass Purchased                               90\n",
       "dtype: int64"
      ]
     },
     "execution_count": 14,
     "metadata": {},
     "output_type": "execute_result"
    }
   ],
   "source": [
    "df_q12017 = df_q12017.rename(columns={\"3-Day Passes Purchased (midnight to 11:59 pm)\":\"MultiDay Pass Purchased\"})\n",
    "\n",
    "df_q12017.count()"
   ]
  },
  {
   "cell_type": "code",
   "execution_count": 15,
   "metadata": {},
   "outputs": [
    {
     "data": {
      "text/plain": [
       "Date                                                  91\n",
       "Trips over the past 24-hours (midnight to 11:59pm)    91\n",
       "Miles traveled today (midnight to 11:59 pm)           91\n",
       "Total Annual Members (All Time)                       91\n",
       "24-Hour Passes Purchased (midnight to 11:59 pm)       91\n",
       "MultiDay Pass Purchased                               91\n",
       "dtype: int64"
      ]
     },
     "execution_count": 15,
     "metadata": {},
     "output_type": "execute_result"
    }
   ],
   "source": [
    "df_q22017 = df_q22017.rename(columns={\"3-Day Passes Purchased (midnight to 11:59 pm)\":\"MultiDay Pass Purchased\"})\n",
    "\n",
    "df_q22017.count()"
   ]
  },
  {
   "cell_type": "code",
   "execution_count": 16,
   "metadata": {},
   "outputs": [
    {
     "data": {
      "text/plain": [
       "Date                                                  92\n",
       "Trips over the past 24-hours (midnight to 11:59pm)    92\n",
       "Miles traveled today (midnight to 11:59 pm)           92\n",
       "Total Annual Members (All Time)                       92\n",
       "24-Hour Passes Purchased (midnight to 11:59 pm)       92\n",
       "MultiDay Pass Purchased                               92\n",
       "dtype: int64"
      ]
     },
     "execution_count": 16,
     "metadata": {},
     "output_type": "execute_result"
    }
   ],
   "source": [
    "df_q32017 = df_q32017.rename(columns={\"3-Day Passes Purchased (midnight to 11:59 pm)\":\"MultiDay Pass Purchased\"})\n",
    "\n",
    "df_q32017.count()"
   ]
  },
  {
   "cell_type": "code",
   "execution_count": 17,
   "metadata": {},
   "outputs": [
    {
     "data": {
      "text/plain": [
       "Date                                                  92\n",
       "Trips over the past 24-hours (midnight to 11:59pm)    92\n",
       "Miles traveled today (midnight to 11:59 pm)           92\n",
       "Total Annual Members (All Time)                       92\n",
       "24-Hour Passes Purchased (midnight to 11:59 pm)       92\n",
       "MultiDay Pass Purchased                               92\n",
       "dtype: int64"
      ]
     },
     "execution_count": 17,
     "metadata": {},
     "output_type": "execute_result"
    }
   ],
   "source": [
    "df_q42017 = df_q42017.rename(columns={\"3-Day Passes Purchased (midnight to 11:59 pm)\":\"MultiDay Pass Purchased\"})\n",
    "\n",
    "df_q42017.count()"
   ]
  },
  {
   "cell_type": "code",
   "execution_count": 18,
   "metadata": {},
   "outputs": [
    {
     "data": {
      "text/plain": [
       "Date                                                  90\n",
       "Trips over the past 24-hours (midnight to 11:59pm)    90\n",
       "Miles traveled today (midnight to 11:59 pm)           90\n",
       "Total Annual Members (All Time)                       90\n",
       "24-Hour Passes Purchased (midnight to 11:59 pm)       90\n",
       "MultiDay Pass Purchased                               90\n",
       "dtype: int64"
      ]
     },
     "execution_count": 18,
     "metadata": {},
     "output_type": "execute_result"
    }
   ],
   "source": [
    "df_q12018 = df_q12018.rename(columns={\"3-Day Passes Purchased (midnight to 11:59 pm)\":\"MultiDay Pass Purchased\"})\n",
    "\n",
    "df_q12018.count()"
   ]
  },
  {
   "cell_type": "code",
   "execution_count": 19,
   "metadata": {},
   "outputs": [
    {
     "data": {
      "text/plain": [
       "Date                                                  91\n",
       "Trips over the past 24-hours (midnight to 11:59pm)    91\n",
       "Miles traveled today (midnight to 11:59 pm)           91\n",
       "Total Annual Members (All Time)                       91\n",
       "24-Hour Passes Purchased (midnight to 11:59 pm)       91\n",
       "MultiDay Pass Purchased                               91\n",
       "dtype: int64"
      ]
     },
     "execution_count": 19,
     "metadata": {},
     "output_type": "execute_result"
    }
   ],
   "source": [
    "df_q22018 = df_q22018.rename(columns={\"3-Day Passes Purchased (midnight to 11:59 pm)\":\"MultiDay Pass Purchased\"})\n",
    "\n",
    "df_q22018.count()"
   ]
  },
  {
   "cell_type": "code",
   "execution_count": 20,
   "metadata": {},
   "outputs": [
    {
     "data": {
      "text/plain": [
       "Date                                                  92\n",
       "Trips over the past 24-hours (midnight to 11:59pm)    92\n",
       "Miles traveled today (midnight to 11:59 pm)           92\n",
       "Total Annual Members (All Time)                       92\n",
       "24-Hour Passes Purchased (midnight to 11:59 pm)       92\n",
       "MultiDay Pass Purchased                               92\n",
       "dtype: int64"
      ]
     },
     "execution_count": 20,
     "metadata": {},
     "output_type": "execute_result"
    }
   ],
   "source": [
    "df_q32018 = df_q32018.rename(columns={\"3-Day Passes Purchased (midnight to 11:59 pm)\":\"MultiDay Pass Purchased\"})\n",
    "\n",
    "df_q32018.count()"
   ]
  },
  {
   "cell_type": "code",
   "execution_count": 21,
   "metadata": {},
   "outputs": [
    {
     "data": {
      "text/plain": [
       "Date                                                  92\n",
       "Trips over the past 24-hours (midnight to 11:59pm)    92\n",
       "Miles traveled today (midnight to 11:59 pm)           92\n",
       "Total Annual Members (All Time)                       92\n",
       "24-Hour Passes Purchased (midnight to 11:59 pm)       92\n",
       "MultiDay Pass Purchased                               92\n",
       "dtype: int64"
      ]
     },
     "execution_count": 21,
     "metadata": {},
     "output_type": "execute_result"
    }
   ],
   "source": [
    "df_q42018 = df_q42018.rename(columns={\"3-Day Passes Purchased (midnight to 11:59 pm)\":\"MultiDay Pass Purchased\"})\n",
    "\n",
    "df_q42018.count()"
   ]
  },
  {
   "cell_type": "code",
   "execution_count": 22,
   "metadata": {},
   "outputs": [
    {
     "data": {
      "text/plain": [
       "24-Hour Passes Purchased (midnight to 11:59 pm)       1826\n",
       "Date                                                  1826\n",
       "Miles traveled today (midnight to 11:59 pm)           1826\n",
       "MultiDay Pass Purchased                               1826\n",
       "Total Annual Members (All Time)                       1826\n",
       "Trips over the past 24-hours (midnight to 11:59pm)    1826\n",
       "dtype: int64"
      ]
     },
     "execution_count": 22,
     "metadata": {},
     "output_type": "execute_result"
    }
   ],
   "source": [
    "df = df_q12014.append(df_q22014, ignore_index=True, sort=True)\n",
    "df = df.append(df_q32014, ignore_index=True, sort=True)\n",
    "df = df.append(df_q42014, ignore_index=True, sort=True)\n",
    "df = df.append(df_q12015, ignore_index=True, sort=True)\n",
    "df = df.append(df_q22015, ignore_index=True, sort=True)\n",
    "df = df.append(df_q32015, ignore_index=True, sort=True)\n",
    "df = df.append(df_q42015, ignore_index=True, sort=True)\n",
    "df = df.append(df_q12016, ignore_index=True, sort=True)\n",
    "df = df.append(df_q22016, ignore_index=True, sort=True)\n",
    "df = df.append(df_q32016, ignore_index=True, sort=True)\n",
    "df = df.append(df_q42016, ignore_index=True, sort=True)\n",
    "df = df.append(df_q12017, ignore_index=True, sort=True)\n",
    "df = df.append(df_q22017, ignore_index=True, sort=True)\n",
    "df = df.append(df_q32017, ignore_index=True, sort=True)\n",
    "df = df.append(df_q42017, ignore_index=True, sort=True)\n",
    "df = df.append(df_q12018, ignore_index=True, sort=True)\n",
    "df = df.append(df_q22018, ignore_index=True, sort=True)\n",
    "df = df.append(df_q32018, ignore_index=True, sort=True)\n",
    "df = df.append(df_q42018, ignore_index=True, sort=True)\n",
    "df.count()"
   ]
  },
  {
   "cell_type": "code",
   "execution_count": 23,
   "metadata": {},
   "outputs": [
    {
     "data": {
      "text/html": [
       "<div>\n",
       "<style scoped>\n",
       "    .dataframe tbody tr th:only-of-type {\n",
       "        vertical-align: middle;\n",
       "    }\n",
       "\n",
       "    .dataframe tbody tr th {\n",
       "        vertical-align: top;\n",
       "    }\n",
       "\n",
       "    .dataframe thead th {\n",
       "        text-align: right;\n",
       "    }\n",
       "</style>\n",
       "<table border=\"1\" class=\"dataframe\">\n",
       "  <thead>\n",
       "    <tr style=\"text-align: right;\">\n",
       "      <th></th>\n",
       "      <th>Date</th>\n",
       "      <th>Trip Count</th>\n",
       "      <th>Miles Traveled</th>\n",
       "      <th>Current Membership Count</th>\n",
       "      <th>Daily Pass Purchased</th>\n",
       "      <th>MultiDay Pass Purchased</th>\n",
       "    </tr>\n",
       "  </thead>\n",
       "  <tbody>\n",
       "    <tr>\n",
       "      <th>0</th>\n",
       "      <td>1/1/2014</td>\n",
       "      <td>6559</td>\n",
       "      <td>9.254</td>\n",
       "      <td>95971</td>\n",
       "      <td>268</td>\n",
       "      <td>10</td>\n",
       "    </tr>\n",
       "    <tr>\n",
       "      <th>1</th>\n",
       "      <td>1/2/2014</td>\n",
       "      <td>9334</td>\n",
       "      <td>11.736</td>\n",
       "      <td>96000</td>\n",
       "      <td>66</td>\n",
       "      <td>3</td>\n",
       "    </tr>\n",
       "    <tr>\n",
       "      <th>2</th>\n",
       "      <td>1/3/2014</td>\n",
       "      <td>1288</td>\n",
       "      <td>1.855</td>\n",
       "      <td>96042</td>\n",
       "      <td>1</td>\n",
       "      <td>1</td>\n",
       "    </tr>\n",
       "    <tr>\n",
       "      <th>3</th>\n",
       "      <td>1/4/2014</td>\n",
       "      <td>2494</td>\n",
       "      <td>3.706</td>\n",
       "      <td>96065</td>\n",
       "      <td>14</td>\n",
       "      <td>1</td>\n",
       "    </tr>\n",
       "    <tr>\n",
       "      <th>4</th>\n",
       "      <td>1/5/2014</td>\n",
       "      <td>2937</td>\n",
       "      <td>3.720</td>\n",
       "      <td>96084</td>\n",
       "      <td>17</td>\n",
       "      <td>4</td>\n",
       "    </tr>\n",
       "  </tbody>\n",
       "</table>\n",
       "</div>"
      ],
      "text/plain": [
       "       Date  Trip Count  Miles Traveled  Current Membership Count  \\\n",
       "0  1/1/2014        6559           9.254                     95971   \n",
       "1  1/2/2014        9334          11.736                     96000   \n",
       "2  1/3/2014        1288           1.855                     96042   \n",
       "3  1/4/2014        2494           3.706                     96065   \n",
       "4  1/5/2014        2937           3.720                     96084   \n",
       "\n",
       "  Daily Pass Purchased MultiDay Pass Purchased  \n",
       "0                  268                      10  \n",
       "1                   66                       3  \n",
       "2                    1                       1  \n",
       "3                   14                       1  \n",
       "4                   17                       4  "
      ]
     },
     "execution_count": 23,
     "metadata": {},
     "output_type": "execute_result"
    }
   ],
   "source": [
    "df = df.rename(columns={\"24-Hour Passes Purchased (midnight to 11:59 pm)\":\"Daily Pass Purchased\",\n",
    "                                     \"Miles traveled today (midnight to 11:59 pm)\":\"Miles Traveled\",\n",
    "                                     \"Total Annual Members (All Time)\":\"Current Membership Count\",\n",
    "                                     \"Trips over the past 24-hours (midnight to 11:59pm)\":\"Trip Count\"})\n",
    "\n",
    "df = df[[\"Date\",\"Trip Count\",\"Miles Traveled\",\"Current Membership Count\",\"Daily Pass Purchased\",\"MultiDay Pass Purchased\"]]\n",
    "\n",
    "df.head()"
   ]
  },
  {
   "cell_type": "code",
   "execution_count": 24,
   "metadata": {},
   "outputs": [],
   "source": [
    "df.to_csv(\"Resources/Export_Membership/membership.csv\")"
   ]
  },
  {
   "cell_type": "code",
   "execution_count": null,
   "metadata": {},
   "outputs": [],
   "source": []
  }
 ],
 "metadata": {
  "kernelspec": {
   "display_name": "Python 3",
   "language": "python",
   "name": "python3"
  },
  "language_info": {
   "codemirror_mode": {
    "name": "ipython",
    "version": 3
   },
   "file_extension": ".py",
   "mimetype": "text/x-python",
   "name": "python",
   "nbconvert_exporter": "python",
   "pygments_lexer": "ipython3",
   "version": "3.6.5"
  }
 },
 "nbformat": 4,
 "nbformat_minor": 2
}
